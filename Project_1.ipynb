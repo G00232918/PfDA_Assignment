{
 "cells": [
  {
   "cell_type": "markdown",
   "id": "6bdea84e",
   "metadata": {},
   "source": [
    "# Snooker Player Status"
   ]
  },
  {
   "cell_type": "markdown",
   "id": "6ef74d6f",
   "metadata": {},
   "source": [
    "I am an amateur player snooker player, had intentions like most to be a professional in my younger days. The game still fascinates me like it did, the first time I went into a club. Many men and women play sports at an amateur and have tried to become professional in preparation and technique. There is much more information now where is helping people to understand how a professional prepares. \n",
    "\n",
    "I have always wondered what the relationship is with the data I have chosen, and I am going to investigate the main factors that can contribute to your status. Not like golf, where is the handicap system for players where an amateur can aim to be a scratch player meaning they could compete professionally, snooker still hasn't developed this system.\n",
    "\n",
    "The following dataset is based on players over 2 seasons, so if the player has become a professional, they would only have been on tour for one year. "
   ]
  },
  {
   "cell_type": "markdown",
   "id": "a95dd233",
   "metadata": {},
   "source": [
    "Variables used:\n",
    "\n",
    "#### players - \n",
    "\n",
    "which is the number of players for the dataset. \n",
    "\n",
    "#### gender - \n",
    "If the player is male or female. Not like many other sports men and women can compete in the same the tournaments. 4 women have competed on the main snooker tour since its existence, so this shows there is a big disparity in participation.\n",
    "\n",
    "#### practice - \n",
    "\n",
    "For setting the range for the practice variable, I took the benchmark as 4 time world champion Mark Selby. He is a full time professional, who plays 6 hours a day. From my own knowledge that is more than likey correct and the professionals, take one day off. 36 hours a week and take approximately 4 weeks off. So the total practice time for professional is approximately 1728 hours per year. So as an amateur, I would set the maximum time to practice as 24 hours overall for a semi-professional or amateur player.\n",
    "\n",
    "In the dataframe, the hours are based over 2 seasons and I have set the limits for the conditions my own knowlegde and information found. To be a professional you would need to be doing at least 3/4 of the time what I researched. There may be some amatuers getting near the hour limit but you also need some talent.\n",
    "\n",
    "#### comp_match_wins - \n",
    "\n",
    "How many wins the player had in competitve tournament wins on national tour or main tour, for a season. The range for this is set in a two season period, you can qualify through to the main tour in many ways. In order to play in any of the events to qualify on the main tour, you would need to be the number one player in your country playing the national amateur events, so you would have to have won the most matches in that year. \n",
    "\n",
    "Anybody new on the professional tour would have had to had qualified through the same path. Hence I am doing 2 seasons as the wins for the previous year and wins on the main tour would have to be counted for a fair reflection. There is no set amount of wins to keep you on the professional tour, as the rankings are based on prize mone. You would want to win at least 16 matches based off last year's main tour rankings to have a chance of staying on the main tour. The last full season where a player qualified as a professional from Ireland, they had to win 14 matches. So I have set the range to 40 wins as is would be based on a high achieving new professional. \n",
    "\n",
    "#### comp_centuries - \n",
    "\n",
    "This is how many centuries a player had in competitive tournaments overall. What this means is you accumulated 100 points or more in one visit. So you scored 100 points consecutively. 75 players who have played professionally, have scored over a 100 centuries since they were recorded.The level of skill and difficultly can be measured against how many people play around the world. I found an article that referenced 60 million play in China at least. Based off this I weighted the amount probbaility for the different categories.(see comments in code)\n",
    "\n",
    "The highest amount recorded to date by a single player is almost 1200, which 300 ahead of anybody else.\n",
    "\n",
    "#### status - \n",
    "\n",
    "This is if the player is professional, semi professional or an amateur. Based off the variables I will calculate for the dataset. \n"
   ]
  },
  {
   "cell_type": "markdown",
   "id": "0a96e630",
   "metadata": {},
   "source": [
    "### Setting up the dataframe"
   ]
  },
  {
   "cell_type": "code",
   "execution_count": 16,
   "id": "1973c484",
   "metadata": {},
   "outputs": [],
   "source": [
    "import random\n",
    "import pandas as pd\n",
    "import matplotlib.pyplot as plt\n",
    "import numpy as np\n",
    "\n",
    "# setting up the dataframe with columns\n",
    "df = pd.DataFrame(columns=['player','gender','practice','comp_match_wins',\n",
    "                           'comp_cen_class','status'])\n",
    "\n",
    "# setting the players to 100\n",
    "df['player'] = pd.Series(range(1,101))\n",
    "\n",
    "# set choices and randomly assign male or female\n",
    "gender = ['M','F']\n",
    "df['gender'] = np.random.choice(gender,100, p=[0.95,0.05])\n",
    "\n",
    "# random assign practice hours to each player\n",
    "df['practice'] = np.random.randint(0, 3456, 100)\n",
    "\n",
    "# randomly assign match wins to players\n",
    "df['comp_match_wins'] = np.random.randint(0, 40, 100)\n",
    "\n",
    "#randomly assign centuries to players\n",
    "# lvl 1 > 100, lv2 50- 99, lvl3 21-49, lvl4 0-20\n",
    "level = ['lvl1','lvl2','lvl3','lvl4']\n",
    "df['comp_cen_class'] = np.random.choice(level, 100, p=[0.05,0.15, 0.20, 0.60])\n",
    "\n",
    "# setting conditions for status\n",
    "\n",
    "cond_stat = [\n",
    "    (df['practice'] > 2500) & (df['comp_match_wins']>=32),\n",
    "    (df['practice'] < 2500) & (df['comp_match_wins']>=32) | \n",
    "    (df['comp_cen_class'] == 'lvl1') |(df['comp_cen_class'] == 'lvl2'),\n",
    "    (df['comp_match_wins']<32)\n",
    "    ]\n",
    "\n",
    "\n",
    "# Values to be assigned based on conditions\n",
    "val_stat = ['pro','semipro','ama']\n",
    "df['status'] = np.select(cond_stat, val_stat)\n",
    "\n",
    "df.set_index('player', inplace=True)"
   ]
  },
  {
   "cell_type": "code",
   "execution_count": 17,
   "id": "50e07584",
   "metadata": {},
   "outputs": [
    {
     "data": {
      "text/html": [
       "<div>\n",
       "<style scoped>\n",
       "    .dataframe tbody tr th:only-of-type {\n",
       "        vertical-align: middle;\n",
       "    }\n",
       "\n",
       "    .dataframe tbody tr th {\n",
       "        vertical-align: top;\n",
       "    }\n",
       "\n",
       "    .dataframe thead th {\n",
       "        text-align: right;\n",
       "    }\n",
       "</style>\n",
       "<table border=\"1\" class=\"dataframe\">\n",
       "  <thead>\n",
       "    <tr style=\"text-align: right;\">\n",
       "      <th></th>\n",
       "      <th>gender</th>\n",
       "      <th>practice</th>\n",
       "      <th>comp_match_wins</th>\n",
       "      <th>comp_cen_class</th>\n",
       "      <th>status</th>\n",
       "    </tr>\n",
       "    <tr>\n",
       "      <th>player</th>\n",
       "      <th></th>\n",
       "      <th></th>\n",
       "      <th></th>\n",
       "      <th></th>\n",
       "      <th></th>\n",
       "    </tr>\n",
       "  </thead>\n",
       "  <tbody>\n",
       "    <tr>\n",
       "      <th>1</th>\n",
       "      <td>M</td>\n",
       "      <td>2957</td>\n",
       "      <td>14</td>\n",
       "      <td>lvl4</td>\n",
       "      <td>ama</td>\n",
       "    </tr>\n",
       "    <tr>\n",
       "      <th>2</th>\n",
       "      <td>M</td>\n",
       "      <td>1928</td>\n",
       "      <td>1</td>\n",
       "      <td>lvl4</td>\n",
       "      <td>ama</td>\n",
       "    </tr>\n",
       "    <tr>\n",
       "      <th>3</th>\n",
       "      <td>M</td>\n",
       "      <td>3291</td>\n",
       "      <td>6</td>\n",
       "      <td>lvl2</td>\n",
       "      <td>semipro</td>\n",
       "    </tr>\n",
       "    <tr>\n",
       "      <th>4</th>\n",
       "      <td>M</td>\n",
       "      <td>35</td>\n",
       "      <td>24</td>\n",
       "      <td>lvl4</td>\n",
       "      <td>ama</td>\n",
       "    </tr>\n",
       "    <tr>\n",
       "      <th>5</th>\n",
       "      <td>M</td>\n",
       "      <td>419</td>\n",
       "      <td>11</td>\n",
       "      <td>lvl4</td>\n",
       "      <td>ama</td>\n",
       "    </tr>\n",
       "    <tr>\n",
       "      <th>...</th>\n",
       "      <td>...</td>\n",
       "      <td>...</td>\n",
       "      <td>...</td>\n",
       "      <td>...</td>\n",
       "      <td>...</td>\n",
       "    </tr>\n",
       "    <tr>\n",
       "      <th>96</th>\n",
       "      <td>M</td>\n",
       "      <td>2107</td>\n",
       "      <td>5</td>\n",
       "      <td>lvl3</td>\n",
       "      <td>ama</td>\n",
       "    </tr>\n",
       "    <tr>\n",
       "      <th>97</th>\n",
       "      <td>M</td>\n",
       "      <td>670</td>\n",
       "      <td>23</td>\n",
       "      <td>lvl4</td>\n",
       "      <td>ama</td>\n",
       "    </tr>\n",
       "    <tr>\n",
       "      <th>98</th>\n",
       "      <td>M</td>\n",
       "      <td>1445</td>\n",
       "      <td>22</td>\n",
       "      <td>lvl4</td>\n",
       "      <td>ama</td>\n",
       "    </tr>\n",
       "    <tr>\n",
       "      <th>99</th>\n",
       "      <td>M</td>\n",
       "      <td>1252</td>\n",
       "      <td>18</td>\n",
       "      <td>lvl4</td>\n",
       "      <td>ama</td>\n",
       "    </tr>\n",
       "    <tr>\n",
       "      <th>100</th>\n",
       "      <td>F</td>\n",
       "      <td>1017</td>\n",
       "      <td>15</td>\n",
       "      <td>lvl4</td>\n",
       "      <td>ama</td>\n",
       "    </tr>\n",
       "  </tbody>\n",
       "</table>\n",
       "<p>100 rows × 5 columns</p>\n",
       "</div>"
      ],
      "text/plain": [
       "       gender  practice  comp_match_wins comp_cen_class   status\n",
       "player                                                          \n",
       "1           M      2957               14           lvl4      ama\n",
       "2           M      1928                1           lvl4      ama\n",
       "3           M      3291                6           lvl2  semipro\n",
       "4           M        35               24           lvl4      ama\n",
       "5           M       419               11           lvl4      ama\n",
       "...       ...       ...              ...            ...      ...\n",
       "96          M      2107                5           lvl3      ama\n",
       "97          M       670               23           lvl4      ama\n",
       "98          M      1445               22           lvl4      ama\n",
       "99          M      1252               18           lvl4      ama\n",
       "100         F      1017               15           lvl4      ama\n",
       "\n",
       "[100 rows x 5 columns]"
      ]
     },
     "execution_count": 17,
     "metadata": {},
     "output_type": "execute_result"
    }
   ],
   "source": [
    "df"
   ]
  },
  {
   "cell_type": "code",
   "execution_count": 18,
   "id": "ba6701c7",
   "metadata": {},
   "outputs": [
    {
     "data": {
      "text/html": [
       "<div>\n",
       "<style scoped>\n",
       "    .dataframe tbody tr th:only-of-type {\n",
       "        vertical-align: middle;\n",
       "    }\n",
       "\n",
       "    .dataframe tbody tr th {\n",
       "        vertical-align: top;\n",
       "    }\n",
       "\n",
       "    .dataframe thead th {\n",
       "        text-align: right;\n",
       "    }\n",
       "</style>\n",
       "<table border=\"1\" class=\"dataframe\">\n",
       "  <thead>\n",
       "    <tr style=\"text-align: right;\">\n",
       "      <th></th>\n",
       "      <th>gender</th>\n",
       "      <th>practice</th>\n",
       "      <th>comp_match_wins</th>\n",
       "      <th>comp_cen_class</th>\n",
       "      <th>status</th>\n",
       "    </tr>\n",
       "    <tr>\n",
       "      <th>player</th>\n",
       "      <th></th>\n",
       "      <th></th>\n",
       "      <th></th>\n",
       "      <th></th>\n",
       "      <th></th>\n",
       "    </tr>\n",
       "  </thead>\n",
       "  <tbody>\n",
       "    <tr>\n",
       "      <th>1</th>\n",
       "      <td>M</td>\n",
       "      <td>2957</td>\n",
       "      <td>14</td>\n",
       "      <td>lvl4</td>\n",
       "      <td>ama</td>\n",
       "    </tr>\n",
       "    <tr>\n",
       "      <th>2</th>\n",
       "      <td>M</td>\n",
       "      <td>1928</td>\n",
       "      <td>1</td>\n",
       "      <td>lvl4</td>\n",
       "      <td>ama</td>\n",
       "    </tr>\n",
       "    <tr>\n",
       "      <th>3</th>\n",
       "      <td>M</td>\n",
       "      <td>3291</td>\n",
       "      <td>6</td>\n",
       "      <td>lvl2</td>\n",
       "      <td>semipro</td>\n",
       "    </tr>\n",
       "    <tr>\n",
       "      <th>4</th>\n",
       "      <td>M</td>\n",
       "      <td>35</td>\n",
       "      <td>24</td>\n",
       "      <td>lvl4</td>\n",
       "      <td>ama</td>\n",
       "    </tr>\n",
       "    <tr>\n",
       "      <th>5</th>\n",
       "      <td>M</td>\n",
       "      <td>419</td>\n",
       "      <td>11</td>\n",
       "      <td>lvl4</td>\n",
       "      <td>ama</td>\n",
       "    </tr>\n",
       "  </tbody>\n",
       "</table>\n",
       "</div>"
      ],
      "text/plain": [
       "       gender  practice  comp_match_wins comp_cen_class   status\n",
       "player                                                          \n",
       "1           M      2957               14           lvl4      ama\n",
       "2           M      1928                1           lvl4      ama\n",
       "3           M      3291                6           lvl2  semipro\n",
       "4           M        35               24           lvl4      ama\n",
       "5           M       419               11           lvl4      ama"
      ]
     },
     "execution_count": 18,
     "metadata": {},
     "output_type": "execute_result"
    }
   ],
   "source": [
    "# print head to check data\n",
    "df.head()"
   ]
  },
  {
   "cell_type": "code",
   "execution_count": 19,
   "id": "2ddf016f",
   "metadata": {},
   "outputs": [
    {
     "data": {
      "text/plain": [
       "gender             object\n",
       "practice            int32\n",
       "comp_match_wins     int32\n",
       "comp_cen_class     object\n",
       "status             object\n",
       "dtype: object"
      ]
     },
     "execution_count": 19,
     "metadata": {},
     "output_type": "execute_result"
    }
   ],
   "source": [
    "# check the datatypes\n",
    "df.dtypes"
   ]
  },
  {
   "cell_type": "code",
   "execution_count": 20,
   "id": "759463fc",
   "metadata": {},
   "outputs": [
    {
     "data": {
      "text/plain": [
       "status\n",
       "ama        67\n",
       "semipro    28\n",
       "pro         5\n",
       "dtype: int64"
      ]
     },
     "execution_count": 20,
     "metadata": {},
     "output_type": "execute_result"
    }
   ],
   "source": [
    "# count the number each statuses\n",
    "df.value_counts(\"status\")"
   ]
  },
  {
   "cell_type": "code",
   "execution_count": 21,
   "id": "867a892e",
   "metadata": {},
   "outputs": [
    {
     "data": {
      "text/plain": [
       "array(['ama', 'semipro', 'pro'], dtype=object)"
      ]
     },
     "execution_count": 21,
     "metadata": {},
     "output_type": "execute_result"
    }
   ],
   "source": [
    "# show totals\n",
    "pd.unique(df['status'])"
   ]
  },
  {
   "cell_type": "markdown",
   "id": "3246d395",
   "metadata": {},
   "source": [
    "#### Show the status count"
   ]
  },
  {
   "cell_type": "code",
   "execution_count": 22,
   "id": "a96cf293",
   "metadata": {},
   "outputs": [
    {
     "data": {
      "image/png": "[encoded data removed]",
      "text/plain": [
       "<Figure size 432x288 with 1 Axes>"
      ]
     },
     "metadata": {
      "needs_background": "light"
     },
     "output_type": "display_data"
    }
   ],
   "source": [
    "import seaborn as sns\n",
    "\n",
    "sns.countplot(x='status', data=df, )\n",
    "plt.show()"
   ]
  },
  {
   "cell_type": "markdown",
   "id": "8a4f3e2f",
   "metadata": {},
   "source": [
    "The graph shows that the highest status from this group of players is amateurs. This makes sense as it is a high amount of wins to become a professional and the amount of practice you need to do. The majority of amatuer players are employed or have family committments which makes it hard to do the hours required to be a professional. \n",
    "\n",
    "Being a semi-pro is a difficult life as you need to be winning alot, so you don't require a part-time job. With the hours of practice you need it pay dividends to continue the massive committment."
   ]
  },
  {
   "cell_type": "code",
   "execution_count": 23,
   "id": "949042a5",
   "metadata": {
    "scrolled": true
   },
   "outputs": [
    {
     "name": "stderr",
     "output_type": "stream",
     "text": [
      "C:\\Users\\james\\anaconda3\\lib\\site-packages\\seaborn\\_decorators.py:36: FutureWarning: Pass the following variable as a keyword arg: x. From version 0.12, the only valid positional argument will be `data`, and passing other arguments without an explicit keyword will result in an error or misinterpretation.\n",
      "  warnings.warn(\n"
     ]
    },
    {
     "data": {
      "image/png": "[encoded data removed]",
      "text/plain": [
       "<Figure size 432x288 with 1 Axes>"
      ]
     },
     "metadata": {
      "needs_background": "light"
     },
     "output_type": "display_data"
    }
   ],
   "source": [
    "# Show the disparity between Male and Female players\n",
    "\n",
    "gen_count = sns.countplot('gender', data=df)\n",
    "gen_count.axes.set_title('Gender Count',fontsize=20)\n",
    "gen_count.set_ylabel(\"Count\",fontsize=10)\n",
    "plt.show()"
   ]
  },
  {
   "cell_type": "code",
   "execution_count": 24,
   "id": "c7319055",
   "metadata": {},
   "outputs": [
    {
     "data": {
      "image/png": "[encoded data removed]",
      "text/plain": [
       "<Figure size 432x288 with 1 Axes>"
      ]
     },
     "metadata": {
      "needs_background": "light"
     },
     "output_type": "display_data"
    }
   ],
   "source": [
    "# Showing the difficuly of how hard it is to make 100> centuries\n",
    "\n",
    "cen_comp = sns.boxplot(x='comp_cen_class', y='practice', data=df)\n",
    "cen_comp.axes.set_title('Century Class vs Practice', fontsize = 20)\n",
    "cen_comp.set_xlabel('Century Class', fontsize = 10)\n",
    "cen_comp.set_ylabel('Practice', fontsize = 10)\n",
    "plt.show()"
   ]
  },
  {
   "cell_type": "markdown",
   "id": "56b3ab52",
   "metadata": {},
   "source": [
    "Based on this data, the level 1 class of century makers don't do less than 1000 hours practice. Also they have the highest amount of practice hours so it shows that you need to be very dedicated to make the level 1 class. Level 4 is interesting as there is some players who are putting in over 2000 hours but are still at level 4. \n",
    "\n",
    "Like any sport, there is an intangible variable which is talent. Some players in the level 3 class at the lower end of practice may have considerable talent when they are doing similar amount of hours at the lower end of level 4."
   ]
  },
  {
   "cell_type": "markdown",
   "id": "201ff2a8",
   "metadata": {},
   "source": [
    "### Scatter plot for status vs wins"
   ]
  },
  {
   "cell_type": "code",
   "execution_count": 25,
   "id": "84a1471a",
   "metadata": {},
   "outputs": [
    {
     "data": {
      "image/png": "[encoded data removed]",
      "text/plain": [
       "<Figure size 432x288 with 1 Axes>"
      ]
     },
     "metadata": {
      "needs_background": "light"
     },
     "output_type": "display_data"
    }
   ],
   "source": [
    "plt.scatter(df[\"status\"], df[\"comp_match_wins\"])\n",
    "plt.title(\"Status vs Competitive Wins\", loc =\"left\", fontsize=15)\n",
    "plt.xlabel(\"status\")\n",
    "plt.ylabel(\"comp_match_wins\")\n",
    "\n",
    "plt.show()"
   ]
  },
  {
   "cell_type": "markdown",
   "id": "f52baf76",
   "metadata": {},
   "source": [
    "The highest amount of wins is in the professional status as expected. You can see in the semi-pro status, there is a grouping between 10 and 15 wins. This could be down to factors of tough draws in tournaments and even sometimes even luck. There is a couple of low plots for semi-pro which would mean they are out of form or have not entered many tournaments so they have less wins."
   ]
  },
  {
   "cell_type": "markdown",
   "id": "92ce6a15",
   "metadata": {},
   "source": [
    "### Scatter plot for status vs practice"
   ]
  },
  {
   "cell_type": "code",
   "execution_count": 26,
   "id": "5833b309",
   "metadata": {},
   "outputs": [
    {
     "data": {
      "image/png": "[encoded data removed]",
      "text/plain": [
       "<Figure size 432x288 with 1 Axes>"
      ]
     },
     "metadata": {
      "needs_background": "light"
     },
     "output_type": "display_data"
    }
   ],
   "source": [
    "plt.scatter(df[\"status\"], df[\"practice\"])\n",
    "plt.title(\"Status vs practice\", loc =\"left\", fontsize=15)\n",
    "plt.xlabel(\"status\")\n",
    "plt.ylabel(\"practice\")\n",
    "\n",
    "plt.show()"
   ]
  },
  {
   "cell_type": "markdown",
   "id": "cd9d7bd2",
   "metadata": {},
   "source": [
    "Each status is near the top of the range. I believe this demonstrates the talent levels. You can be doing a high amount of hours but you need to get the wins to progress. The professional status is concentrated at the top of the range, so you need to doing the hours to be doing at least over 2000 hours practice."
   ]
  },
  {
   "cell_type": "code",
   "execution_count": 27,
   "id": "36117711",
   "metadata": {},
   "outputs": [
    {
     "data": {
      "image/png": "[encoded data removed]",
      "text/plain": [
       "<Figure size 432x288 with 2 Axes>"
      ]
     },
     "metadata": {
      "needs_background": "light"
     },
     "output_type": "display_data"
    }
   ],
   "source": [
    "# Create the heatmap, annot = true is write each data value in the cell.\n",
    "x = sns.heatmap(df.corr(),annot=True)\n",
    "plt.plot()\n",
    "plt.show()"
   ]
  },
  {
   "cell_type": "markdown",
   "id": "9e1525f1",
   "metadata": {},
   "source": [
    "What this shows us, is that practice hours and comp_match_wins don't correlate. This makes sense in the real world, as the intangibles can play a part in how many matches you win such as luck and talent. From the scatter plots we found practice only really correlates with professionals. Professionals have the talent along with the time to practice, when you have both, this makes you successful."
   ]
  },
  {
   "cell_type": "code",
   "execution_count": 28,
   "id": "c76503ca",
   "metadata": {},
   "outputs": [
    {
     "data": {
      "text/plain": [
       "count    100.000000\n",
       "mean      19.440000\n",
       "std       11.377206\n",
       "min        0.000000\n",
       "25%       10.000000\n",
       "50%       19.000000\n",
       "75%       30.000000\n",
       "max       39.000000\n",
       "Name: comp_match_wins, dtype: float64"
      ]
     },
     "execution_count": 28,
     "metadata": {},
     "output_type": "execute_result"
    }
   ],
   "source": [
    "# getting the statistics of matches won which has probably the strongest\n",
    "# influence on player status\n",
    "df['comp_match_wins'].describe()"
   ]
  },
  {
   "cell_type": "markdown",
   "id": "e071ecce",
   "metadata": {},
   "source": [
    "### Normal Distribution for competitive wins"
   ]
  },
  {
   "cell_type": "code",
   "execution_count": 56,
   "id": "fbb37f9f",
   "metadata": {},
   "outputs": [
    {
     "data": {
      "image/png": "[encoded data removed]",
      "text/plain": [
       "<Figure size 432x288 with 1 Axes>"
      ]
     },
     "metadata": {
      "needs_background": "light"
     },
     "output_type": "display_data"
    }
   ],
   "source": [
    "import scipy.stats as stats\n",
    "\n",
    "df_mean = np.mean(df[\"comp_match_wins\"])\n",
    "df_std = np.std(df[\"comp_match_wins\"])\n",
    " \n",
    "# Calculating probability density function (PDF)\n",
    "pdf = stats.norm.pdf(df[\"comp_match_wins\"].sort_values(), df_mean, df_std)\n",
    "\n",
    "# Drawing a graph\n",
    "plt.plot(df[\"comp_match_wins\"].sort_values(), pdf)\n",
    "plt.xlim([0,40])  \n",
    "plt.xlabel(\"Competitive wins\", size=12)    \n",
    "plt.ylabel(\"Frequency\", size=12)                \n",
    "plt.grid(True, alpha=0.3, linestyle=\"--\")\n",
    "plt.show()"
   ]
  },
  {
   "cell_type": "markdown",
   "id": "f0232922",
   "metadata": {},
   "source": [
    "The graph shows that the dataset is normally distribution as it represents a bell-curve. This makes sense there would only be small group with more that 32 competitive match wins. Also there would be a small number of 0 wins as players would get some wins as most draws would be ranking based. The lower ranked players would play each other at the start of tournaments, which give players an opportunity to play some matches where your opponent is of a similar standard."
   ]
  },
  {
   "cell_type": "code",
   "execution_count": null,
   "id": "1d2f5262",
   "metadata": {},
   "outputs": [],
   "source": []
  }
 ],
 "metadata": {
  "kernelspec": {
   "display_name": "Python 3 (ipykernel)",
   "language": "python",
   "name": "python3"
  },
  "language_info": {
   "codemirror_mode": {
    "name": "ipython",
    "version": 3
   },
   "file_extension": ".py",
   "mimetype": "text/x-python",
   "name": "python",
   "nbconvert_exporter": "python",
   "pygments_lexer": "ipython3",
   "version": "3.9.7"
  }
 },
 "nbformat": 4,
 "nbformat_minor": 5
}
