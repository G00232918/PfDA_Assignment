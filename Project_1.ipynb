{
 "cells": [
  {
   "cell_type": "markdown",
   "id": "6bdea84e",
   "metadata": {},
   "source": [
    "# Snooker Player Status"
   ]
  },
  {
   "cell_type": "markdown",
   "id": "6ef74d6f",
   "metadata": {},
   "source": [
    "I am an amateur player snooker player, had intentions like most to be a professional in my younger days. The game still fascinates me like it did, the first time I went into a club. Many men and women play sports at an amateur and have tried to become professional in preparation and technique. There is much more information now where is helping people to understand how a professional prepares. \n",
    "\n",
    "I have always wondered what the relationship is with the data I have chosen, and I am going to investigate the main factors that can contribute to your status. Not like golf, where is the handicap system for players where an amateur can aim to be a scratch player meaning they could compete professionally, snooker still hasn't developed this system."
   ]
  },
  {
   "cell_type": "markdown",
   "id": "a95dd233",
   "metadata": {},
   "source": [
    "Variables used:\n",
    "\n",
    "players - which is the number of players for the dataset. \n",
    "\n",
    "##### gender - \n",
    "If the player is male or female. Not like many other sports men and women can compete in the same the tournaments. 4 women have competed on the main snooker tour since its existence, so this shows there is a big disparity in participation.\n",
    "\n",
    "###### practice - \n",
    "\n",
    "For setting the range for the practice variable, I took the benchmark as 4 time world champion Mark Selby. He is a full time professional, who plays 6 hours a day. From my own knowledge that is more than likey correct and the professionals, take one day off. 36 hours a week and take approximately 4 weeks off. So the total practice time for professional is approximately 1728 hours per year. So as an amateur, I would set the maximum time to practice as 24 hours overall for a semi-professional or amateur player.\n",
    "\n",
    "In the dataframe, the hours are based over 2 seasons and I have set the limits for the conditions based off a ratio in quarters and my own knowlegde. To be a professional you would need to be doing at least 3/4 of the time what I researched. There may be some amatuers getting near the hour limit but you also need some talent.\n",
    "\n",
    "##### comp_match_wins - \n",
    "\n",
    "How many wins the player had in competitve tournament wins on national tour or main tour, for a season. The range for this is set in a two season period, you can qualify through to the main tour in many ways. In order to play in any of the events to qualify on the main tour, you would need to be the number one player in your country playing the national amateur events, so you would have to have won the most matches in that year. \n",
    "\n",
    "Anybody new on the professional tour would have had to had qualified through the same path. Hence I am doing 2 seasons as the wins for the previous year and wins on the main tour would have to be counted for a fair reflection. There is no true amount of wins on the professional, as the rankings are based on prize money, you want to win at least 10 matches to have a chance of staying on the main tour each season. The last full season where a player qualified as professional they had to win 14 matches. \n",
    "\n",
    "##### comp_centuries - \n",
    "\n",
    "This is how many centuries a player had in competitive tournaments overall. What this means is you accumulated 100 points or more in one visit. So you scored 100 points consecutively. 75 players who have played professionally, have scored over a 100 centuries since they were recorded.The level of skill and difficultly can be measured against how many people play around the world. I found an article that referenced 60 million play in China at least. Based off this I weighted the amount for different categories.\n",
    "\n",
    "The highest amount recorded to date by a single player is almost 1200, which 300 ahead of anybody else.\n",
    "\n",
    "##### status - \n",
    "\n",
    "This is if the player is professional, semi professional or an amateur. Based off the variables I will calculate for the dataset. \n"
   ]
  },
  {
   "cell_type": "markdown",
   "id": "0a96e630",
   "metadata": {},
   "source": [
    "### Setting up the dataframe"
   ]
  },
  {
   "cell_type": "code",
   "execution_count": 14,
   "id": "1973c484",
   "metadata": {},
   "outputs": [],
   "source": [
    "import random\n",
    "import pandas as pd\n",
    "import matplotlib.pyplot as plt\n",
    "import numpy as np\n",
    "\n",
    "# setting up the dataframe with columns\n",
    "df = pd.DataFrame(columns=['players','gender','practice','comp_match_wins',\n",
    "                           'comp_cen_class','status'])\n",
    "\n",
    "# setting the players to 100\n",
    "df['players'] = pd.Series(range(1,101))\n",
    "\n",
    "# set choices and randomly assign male or female\n",
    "gender = ['M','F']\n",
    "df['gender'] = np.random.choice(gender,100, p=[0.95,0.05])\n",
    "\n",
    "# random assign practice hours to each player\n",
    "df['practice'] = np.random.randint(0, 3456, 100)\n",
    "\n",
    "# randomly assign match wins to players\n",
    "df['comp_match_wins'] = np.random.randint(0, 84, 100)\n",
    "\n",
    "#randomly assign centuries to players\n",
    "# lvl 1 is > 100, lv2 < 100\n",
    "comp_cen_class = ['lvl1','lvl2']\n",
    "df['comp_cen_class'] = np.random.choice(comp_cen_class,p=[0.05,0.95])\n",
    "\n",
    "# setting conditions for status\n",
    "\n",
    "cond_stat = [\n",
    "    (df['practice'] > 2500) & (df['comp_match_wins']>32),\n",
    "    (df['practice'] > 2500) & (df['comp_match_wins']<=32) | (df['comp_cen_class'] == 'lvl1'),\n",
    "    (df['practice'] < 2500) | (df['comp_match_wins']<=32)\n",
    "    ]\n",
    "\n",
    "\n",
    "# Values to be assigned based on conditions\n",
    "val_stat = ['pro','semipro','ama']\n",
    "\n",
    "df['status'] = np.select(cond_stat, val_stat)\n"
   ]
  },
  {
   "cell_type": "code",
   "execution_count": 15,
   "id": "50e07584",
   "metadata": {},
   "outputs": [
    {
     "name": "stdout",
     "output_type": "stream",
     "text": [
      "    players gender  practice  comp_match_wins comp_cen_class   status\n",
      "0         1      M      2551               16           lvl2  semipro\n",
      "1         2      M      3103               16           lvl2  semipro\n",
      "2         3      M       475               14           lvl2      ama\n",
      "3         4      M      2132               71           lvl2      ama\n",
      "4         5      M      1971               33           lvl2      ama\n",
      "5         6      M      1788               15           lvl2      ama\n",
      "6         7      M       640                1           lvl2      ama\n",
      "7         8      M       434               27           lvl2      ama\n",
      "8         9      M       966               77           lvl2      ama\n",
      "9        10      M      1282               73           lvl2      ama\n",
      "10       11      M      1695               26           lvl2      ama\n",
      "11       12      M       588               70           lvl2      ama\n",
      "12       13      M       923               81           lvl2      ama\n",
      "13       14      M      3021               16           lvl2  semipro\n",
      "14       15      M       265               15           lvl2      ama\n",
      "15       16      M      2211               34           lvl2      ama\n",
      "16       17      M      1632               48           lvl2      ama\n",
      "17       18      M      2068               71           lvl2      ama\n",
      "18       19      M       358               10           lvl2      ama\n",
      "19       20      M      2119               74           lvl2      ama\n",
      "20       21      F      1193               14           lvl2      ama\n",
      "21       22      M      2767               26           lvl2  semipro\n",
      "22       23      M      1780               54           lvl2      ama\n",
      "23       24      M      2599               22           lvl2  semipro\n",
      "24       25      M       566               57           lvl2      ama\n",
      "25       26      M      1789               50           lvl2      ama\n",
      "26       27      M      2368               12           lvl2      ama\n",
      "27       28      M       394               13           lvl2      ama\n",
      "28       29      M       700               37           lvl2      ama\n",
      "29       30      M      1344               46           lvl2      ama\n",
      "30       31      M       260               55           lvl2      ama\n",
      "31       32      M      3303               72           lvl2      pro\n",
      "32       33      M      3158               23           lvl2  semipro\n",
      "33       34      F         1               20           lvl2      ama\n",
      "34       35      M      1929               65           lvl2      ama\n",
      "35       36      M       833               49           lvl2      ama\n",
      "36       37      M      1643               30           lvl2      ama\n",
      "37       38      M      3246               26           lvl2  semipro\n",
      "38       39      M       656               16           lvl2      ama\n",
      "39       40      M      3144               63           lvl2      pro\n",
      "40       41      M      3172               36           lvl2      pro\n",
      "41       42      M      3087               66           lvl2      pro\n",
      "42       43      M      1491               58           lvl2      ama\n",
      "43       44      M      2634               34           lvl2      pro\n",
      "44       45      M      3057               72           lvl2      pro\n",
      "45       46      M      2160                7           lvl2      ama\n",
      "46       47      M      1672                7           lvl2      ama\n",
      "47       48      M       129               51           lvl2      ama\n",
      "48       49      M      3325                0           lvl2  semipro\n",
      "49       50      M      2907               76           lvl2      pro\n",
      "50       51      M      2801               70           lvl2      pro\n",
      "51       52      M      2171               37           lvl2      ama\n",
      "52       53      M       370               70           lvl2      ama\n",
      "53       54      M       703               77           lvl2      ama\n",
      "54       55      M      2464               16           lvl2      ama\n",
      "55       56      M      3249               15           lvl2  semipro\n",
      "56       57      M      1214                0           lvl2      ama\n",
      "57       58      M      2655               49           lvl2      pro\n",
      "58       59      M      2832                2           lvl2  semipro\n",
      "59       60      M      2938                4           lvl2  semipro\n",
      "60       61      M      2485               82           lvl2      ama\n",
      "61       62      M       114               33           lvl2      ama\n",
      "62       63      M      3396               53           lvl2      pro\n",
      "63       64      M      3311               60           lvl2      pro\n",
      "64       65      M      1915               34           lvl2      ama\n",
      "65       66      M        73               63           lvl2      ama\n",
      "66       67      M      3138               64           lvl2      pro\n",
      "67       68      M      2231               51           lvl2      ama\n",
      "68       69      M      2167                5           lvl2      ama\n",
      "69       70      M      2231               56           lvl2      ama\n",
      "70       71      M       838               61           lvl2      ama\n",
      "71       72      M      3139               56           lvl2      pro\n",
      "72       73      M      1451               70           lvl2      ama\n",
      "73       74      M       186               58           lvl2      ama\n",
      "74       75      F      2191               36           lvl2      ama\n",
      "75       76      M      1933                0           lvl2      ama\n",
      "76       77      M       793               78           lvl2      ama\n",
      "77       78      M      3089                7           lvl2  semipro\n",
      "78       79      M       694               66           lvl2      ama\n",
      "79       80      M       970               24           lvl2      ama\n",
      "80       81      M      2815               51           lvl2      pro\n",
      "81       82      M      1446               68           lvl2      ama\n",
      "82       83      M       544               49           lvl2      ama\n",
      "83       84      M      1343               59           lvl2      ama\n",
      "84       85      M      1697                4           lvl2      ama\n",
      "85       86      M       411                5           lvl2      ama\n",
      "86       87      M      1143               30           lvl2      ama\n",
      "87       88      M      2169               18           lvl2      ama\n",
      "88       89      M       831               65           lvl2      ama\n",
      "89       90      M       865               44           lvl2      ama\n",
      "90       91      M      2944               15           lvl2  semipro\n",
      "91       92      M      2013                3           lvl2      ama\n",
      "92       93      F      2563               47           lvl2      pro\n",
      "93       94      M      2332               30           lvl2      ama\n",
      "94       95      M       682               42           lvl2      ama\n",
      "95       96      M       725               35           lvl2      ama\n",
      "96       97      M       556               53           lvl2      ama\n",
      "97       98      M       456                8           lvl2      ama\n",
      "98       99      M      2646               11           lvl2  semipro\n",
      "99      100      M      3333               42           lvl2      pro\n"
     ]
    }
   ],
   "source": [
    "pd.set_option('display.max_rows', 100)\n",
    "\n",
    "print (df)"
   ]
  },
  {
   "cell_type": "code",
   "execution_count": 16,
   "id": "ba6701c7",
   "metadata": {},
   "outputs": [
    {
     "data": {
      "text/html": [
       "<div>\n",
       "<style scoped>\n",
       "    .dataframe tbody tr th:only-of-type {\n",
       "        vertical-align: middle;\n",
       "    }\n",
       "\n",
       "    .dataframe tbody tr th {\n",
       "        vertical-align: top;\n",
       "    }\n",
       "\n",
       "    .dataframe thead th {\n",
       "        text-align: right;\n",
       "    }\n",
       "</style>\n",
       "<table border=\"1\" class=\"dataframe\">\n",
       "  <thead>\n",
       "    <tr style=\"text-align: right;\">\n",
       "      <th></th>\n",
       "      <th>players</th>\n",
       "      <th>gender</th>\n",
       "      <th>practice</th>\n",
       "      <th>comp_match_wins</th>\n",
       "      <th>comp_cen_class</th>\n",
       "      <th>status</th>\n",
       "    </tr>\n",
       "  </thead>\n",
       "  <tbody>\n",
       "    <tr>\n",
       "      <th>0</th>\n",
       "      <td>1</td>\n",
       "      <td>M</td>\n",
       "      <td>2551</td>\n",
       "      <td>16</td>\n",
       "      <td>lvl2</td>\n",
       "      <td>semipro</td>\n",
       "    </tr>\n",
       "    <tr>\n",
       "      <th>1</th>\n",
       "      <td>2</td>\n",
       "      <td>M</td>\n",
       "      <td>3103</td>\n",
       "      <td>16</td>\n",
       "      <td>lvl2</td>\n",
       "      <td>semipro</td>\n",
       "    </tr>\n",
       "    <tr>\n",
       "      <th>2</th>\n",
       "      <td>3</td>\n",
       "      <td>M</td>\n",
       "      <td>475</td>\n",
       "      <td>14</td>\n",
       "      <td>lvl2</td>\n",
       "      <td>ama</td>\n",
       "    </tr>\n",
       "    <tr>\n",
       "      <th>3</th>\n",
       "      <td>4</td>\n",
       "      <td>M</td>\n",
       "      <td>2132</td>\n",
       "      <td>71</td>\n",
       "      <td>lvl2</td>\n",
       "      <td>ama</td>\n",
       "    </tr>\n",
       "    <tr>\n",
       "      <th>4</th>\n",
       "      <td>5</td>\n",
       "      <td>M</td>\n",
       "      <td>1971</td>\n",
       "      <td>33</td>\n",
       "      <td>lvl2</td>\n",
       "      <td>ama</td>\n",
       "    </tr>\n",
       "  </tbody>\n",
       "</table>\n",
       "</div>"
      ],
      "text/plain": [
       "   players gender  practice  comp_match_wins comp_cen_class   status\n",
       "0        1      M      2551               16           lvl2  semipro\n",
       "1        2      M      3103               16           lvl2  semipro\n",
       "2        3      M       475               14           lvl2      ama\n",
       "3        4      M      2132               71           lvl2      ama\n",
       "4        5      M      1971               33           lvl2      ama"
      ]
     },
     "execution_count": 16,
     "metadata": {},
     "output_type": "execute_result"
    }
   ],
   "source": [
    "# print head to check data\n",
    "df.head()"
   ]
  },
  {
   "cell_type": "code",
   "execution_count": 17,
   "id": "2ddf016f",
   "metadata": {},
   "outputs": [
    {
     "data": {
      "text/plain": [
       "players             int64\n",
       "gender             object\n",
       "practice            int32\n",
       "comp_match_wins     int32\n",
       "comp_cen_class     object\n",
       "status             object\n",
       "dtype: object"
      ]
     },
     "execution_count": 17,
     "metadata": {},
     "output_type": "execute_result"
    }
   ],
   "source": [
    "# check the datatypes\n",
    "df.dtypes"
   ]
  },
  {
   "cell_type": "code",
   "execution_count": 26,
   "id": "759463fc",
   "metadata": {},
   "outputs": [
    {
     "data": {
      "text/plain": [
       "status\n",
       "ama        70\n",
       "pro        16\n",
       "semipro    14\n",
       "dtype: int64"
      ]
     },
     "execution_count": 26,
     "metadata": {},
     "output_type": "execute_result"
    }
   ],
   "source": [
    "# count the number each statuses\n",
    "df.value_counts(\"status\")"
   ]
  },
  {
   "cell_type": "code",
   "execution_count": 18,
   "id": "867a892e",
   "metadata": {},
   "outputs": [
    {
     "data": {
      "text/plain": [
       "array(['semipro', 'ama', 'pro'], dtype=object)"
      ]
     },
     "execution_count": 18,
     "metadata": {},
     "output_type": "execute_result"
    }
   ],
   "source": [
    "# show that the columns are contributing to the status types\n",
    "pd.unique(df['status'])"
   ]
  },
  {
   "cell_type": "markdown",
   "id": "3246d395",
   "metadata": {},
   "source": [
    "#### Show the status count"
   ]
  },
  {
   "cell_type": "code",
   "execution_count": 19,
   "id": "a96cf293",
   "metadata": {},
   "outputs": [
    {
     "data": {
      "image/png": "[encoded data removed]",
      "text/plain": [
       "<Figure size 432x288 with 1 Axes>"
      ]
     },
     "metadata": {
      "needs_background": "light"
     },
     "output_type": "display_data"
    }
   ],
   "source": [
    "import seaborn as sns\n",
    "\n",
    "sns.countplot(x='status', data=df, )\n",
    "plt.show()"
   ]
  },
  {
   "cell_type": "markdown",
   "id": "8a4f3e2f",
   "metadata": {},
   "source": [
    "The graph shows that the highest status from this group of players is amateurs. This makes sense as it is a high amount of wins to become a professional. Being a semi-pro is a difficult life as you need to be winning alot, so you don't require a part-time job."
   ]
  },
  {
   "cell_type": "code",
   "execution_count": 20,
   "id": "949042a5",
   "metadata": {
    "scrolled": true
   },
   "outputs": [
    {
     "name": "stderr",
     "output_type": "stream",
     "text": [
      "C:\\Users\\james\\anaconda3\\lib\\site-packages\\seaborn\\_decorators.py:36: FutureWarning: Pass the following variable as a keyword arg: x. From version 0.12, the only valid positional argument will be `data`, and passing other arguments without an explicit keyword will result in an error or misinterpretation.\n",
      "  warnings.warn(\n"
     ]
    },
    {
     "data": {
      "image/png": "[encoded data removed]",
      "text/plain": [
       "<Figure size 432x288 with 1 Axes>"
      ]
     },
     "metadata": {
      "needs_background": "light"
     },
     "output_type": "display_data"
    }
   ],
   "source": [
    "# Show the disparity between Male abd Female player\n",
    "\n",
    "gen_count = sns.countplot('gender', data=df)\n",
    "gen_count.axes.set_title('Gender Count',fontsize=20)\n",
    "gen_count.set_ylabel(\"Count\",fontsize=10)\n",
    "plt.show()"
   ]
  },
  {
   "cell_type": "code",
   "execution_count": 21,
   "id": "c7319055",
   "metadata": {},
   "outputs": [
    {
     "data": {
      "image/png": "[encoded data removed]",
      "text/plain": [
       "<Figure size 432x288 with 1 Axes>"
      ]
     },
     "metadata": {
      "needs_background": "light"
     },
     "output_type": "display_data"
    }
   ],
   "source": [
    "# Showing the difficuly of how hard it is to make 100> centuries\n",
    "\n",
    "cen_comp = sns.boxplot(x='comp_cen_class', y='practice', data=df)\n",
    "cen_comp.axes.set_title('Century Class vs Practice', fontsize = 20)\n",
    "cen_comp.set_xlabel('Century Class', fontsize = 10)\n",
    "cen_comp.set_ylabel('Practice', fontsize = 10)\n",
    "plt.show()"
   ]
  },
  {
   "cell_type": "markdown",
   "id": "56b3ab52",
   "metadata": {},
   "source": [
    "From this graph you can see the range of practice hours that the players are doing. Nobody in the dataset is the class of level 1 but you can see the difficulty based on the higher amount of hours being done certain players."
   ]
  },
  {
   "cell_type": "markdown",
   "id": "201ff2a8",
   "metadata": {},
   "source": [
    "### Scatter plot for status vs wins"
   ]
  },
  {
   "cell_type": "code",
   "execution_count": 27,
   "id": "84a1471a",
   "metadata": {},
   "outputs": [
    {
     "data": {
      "image/png": "[encoded data removed]",
      "text/plain": [
       "<Figure size 432x288 with 1 Axes>"
      ]
     },
     "metadata": {
      "needs_background": "light"
     },
     "output_type": "display_data"
    }
   ],
   "source": [
    "plt.scatter(df[\"status\"], df[\"comp_match_wins\"])\n",
    "plt.title(\"Status vs Competitive Wins\", loc =\"left\", fontsize=15)\n",
    "plt.xlabel(\"status\")\n",
    "plt.ylabel(\"comp_match_wins\")\n",
    "\n",
    "plt.show()"
   ]
  },
  {
   "cell_type": "markdown",
   "id": "92ce6a15",
   "metadata": {},
   "source": [
    "### Scatter plot for status vs practice"
   ]
  },
  {
   "cell_type": "code",
   "execution_count": 31,
   "id": "5833b309",
   "metadata": {},
   "outputs": [
    {
     "data": {
      "image/png": "[encoded data removed]",
      "text/plain": [
       "<Figure size 432x288 with 1 Axes>"
      ]
     },
     "metadata": {
      "needs_background": "light"
     },
     "output_type": "display_data"
    }
   ],
   "source": [
    "plt.scatter(df[\"status\"], df[\"practice\"])\n",
    "plt.title(\"Status vs practice\", loc =\"left\", fontsize=15)\n",
    "plt.xlabel(\"status\")\n",
    "plt.ylabel(\"practice\")\n",
    "\n",
    "plt.show()"
   ]
  },
  {
   "cell_type": "code",
   "execution_count": 32,
   "id": "36117711",
   "metadata": {},
   "outputs": [
    {
     "data": {
      "image/png": "[encoded data removed]",
      "text/plain": [
       "<Figure size 432x288 with 2 Axes>"
      ]
     },
     "metadata": {
      "needs_background": "light"
     },
     "output_type": "display_data"
    }
   ],
   "source": [
    "# Create the heatmap, annot = true is write each data value in the cell.\n",
    "x = sns.heatmap(df.corr(),annot=True)\n",
    "plt.plot()\n",
    "figure = x.get_figure() \n",
    "figure.savefig(\"sns-heatmap.png\")\n",
    "plt.show()"
   ]
  },
  {
   "cell_type": "code",
   "execution_count": 23,
   "id": "c76503ca",
   "metadata": {},
   "outputs": [
    {
     "data": {
      "text/plain": [
       "count    100.000000\n",
       "mean      39.210000\n",
       "std       24.521397\n",
       "min        0.000000\n",
       "25%       16.000000\n",
       "50%       37.000000\n",
       "75%       60.250000\n",
       "max       82.000000\n",
       "Name: comp_match_wins, dtype: float64"
      ]
     },
     "execution_count": 23,
     "metadata": {},
     "output_type": "execute_result"
    }
   ],
   "source": [
    "# getting the statistics of matches won which has probably the strongest\n",
    "# influence on player status\n",
    "df['comp_match_wins'].describe()"
   ]
  },
  {
   "cell_type": "code",
   "execution_count": null,
   "id": "fbb37f9f",
   "metadata": {},
   "outputs": [],
   "source": []
  },
  {
   "cell_type": "code",
   "execution_count": 85,
   "id": "4fffc992",
   "metadata": {},
   "outputs": [],
   "source": []
  },
  {
   "cell_type": "code",
   "execution_count": null,
   "id": "25d0c3f6",
   "metadata": {},
   "outputs": [],
   "source": []
  }
 ],
 "metadata": {
  "kernelspec": {
   "display_name": "Python 3 (ipykernel)",
   "language": "python",
   "name": "python3"
  },
  "language_info": {
   "codemirror_mode": {
    "name": "ipython",
    "version": 3
   },
   "file_extension": ".py",
   "mimetype": "text/x-python",
   "name": "python",
   "nbconvert_exporter": "python",
   "pygments_lexer": "ipython3",
   "version": "3.9.7"
  }
 },
 "nbformat": 4,
 "nbformat_minor": 5
}
