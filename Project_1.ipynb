{
 "cells": [
  {
   "cell_type": "markdown",
   "id": "6bdea84e",
   "metadata": {},
   "source": [
    "### Snooker Player Status"
   ]
  },
  {
   "cell_type": "markdown",
   "id": "6ef74d6f",
   "metadata": {},
   "source": [
    "I am an amateur player snooker player, had intentions like most to be a professional in my younger days. The game still fascinates me like it did, the first time I went into a club. Many men and women play sports at an amateur and have tried to become professional in preparation and technique. There is much more information now where is helping people to understand how a professional prepares. \n",
    "\n",
    "I have always wondered what the relationship is with the data I have chosen, and I am going to investigate the main factors that can contribute to your status. Not like golf, where is the handicap system for players where an amateur can aim to be a scratch player meaning they could compete professionally, snooker still hasn't developed this system."
   ]
  },
  {
   "cell_type": "markdown",
   "id": "a95dd233",
   "metadata": {},
   "source": [
    "Variables used:\n",
    "\n",
    "players - which is the number of players for the dataset. \n",
    "\n",
    "##### gender - \n",
    "If the player is male or female. Not like many other sports men and women can compete in the same the tournaments. 4 women have competed on the main snooker tour since its existence, so this shows there is a big disparity in participation.\n",
    "\n",
    "###### practice - \n",
    "\n",
    "For setting the range for the practice variable, I took the benchmark as 4 time world champion Mark Selby. He is a full time professional, who plays 6 hours a day. From my own knowledge that is more than likey correct and the professionals, take one day off. 36 hours a week and take approximately 4 weeks off. So the total practice time for professional is approximately 1728 hours per year. So as an amateur, I would set the maximum time to practice as 24 hours overall for a semi-professional or amateur player.\n",
    "\n",
    "In the dataframe, the hours are based over 2 seasons and I have set the limits for the conditions based off a ratio in quarters and my own knowlegde. To be a professional you would need to be doing at least 3/4 of the time what I researched. There may be some amatuers getting near the hour limit but you also need some talent.\n",
    "\n",
    "##### comp_match_wins - \n",
    "\n",
    "How many wins the player had in competitve tournament wins on national tour or main tour, for a season. The range for this is set in a two season period, you can qualify through to the main tour in many ways. In order to play in any of the events to qualify on the main tour, you would need to be the number one player in your country playing the national amateur events, so you would have to have won the most matches in that year. \n",
    "\n",
    "Anybody new on the professional tour would have had to had qualified through the same path. Hence I am doing 2 seasons as the wins for the previous year and wins on the main tour would have to be counted for a fair reflection. There is no true amount of wins on the professional, as the rankings are based on prize money, you want to win at least 10 matches to have a chance of staying on the main tour each season. The last full season where a player qualified as professional they had to win 14 matches. \n",
    "\n",
    "##### comp_centuries - \n",
    "\n",
    "This is how many centuries a player had in competitive tournaments overall. What this means is you accumulated 100 points or more in one visit. So you scored 100 points consecutively. 75 players who have played professionally, have scored over a 100 centuries since they were recorded. Based off this I weighted the amount for different categories.\n",
    "\n",
    "The highest amount recorded to date by a single player is almost 1200, which 300 ahead of anybody else.\n",
    "\n",
    "##### status - \n",
    "\n",
    "This is if the player is professional, semi professional or an amateur. Based off the variables I will calculate for the dataset. \n"
   ]
  },
  {
   "cell_type": "code",
   "execution_count": 156,
   "id": "1973c484",
   "metadata": {},
   "outputs": [],
   "source": [
    "import random\n",
    "import pandas as pd\n",
    "import matplotlib.pyplot as plt\n",
    "import numpy as np\n",
    "\n",
    "# setting up the dataframe with columns\n",
    "df = pd.DataFrame(columns=['players','gender','practice','comp_match_wins',\n",
    "                           'comp_cen_class','status'])\n",
    "\n",
    "# setting the players to 100\n",
    "df['players'] = pd.Series(range(1,101))\n",
    "\n",
    "# set choices and randomly assign male or female\n",
    "gender = ['M','F']\n",
    "df['gender'] = np.random.choice(gender,100, p=[0.95,0.05])\n",
    "\n",
    "# random assign practice hours to each player\n",
    "df['practice'] = np.random.randint(0, 3456, 100)\n",
    "\n",
    "# randomly assign match wins to players\n",
    "df['comp_match_wins'] = np.random.randint(0, 84, 100)\n",
    "\n",
    "#randomly assign centuries to players\n",
    "comp_cen_class = ['lvl1','lvl2']\n",
    "df['comp_cen_class'] = np.random.choice(comp_cen_class,p=[0.01,0.99])\n",
    "\n",
    "# setting conditions for status\n",
    "\n",
    "conditions = [\n",
    "    (df['practice'] > 2500) & (df['comp_match_wins']>32),\n",
    "    (df['practice'] > 2500) & (df['comp_match_wins']<=32) | (df['comp_cen_class'] == 'lvl1'),\n",
    "    (df['practice'] < 2500) | (df['comp_match_wins']<=32)\n",
    "    ]\n",
    "\n",
    "\n",
    "# Values to be assigned based on conditions\n",
    "values = ['pro','semipro','ama']\n",
    "\n",
    "df['status'] = np.select(conditions, values)\n"
   ]
  },
  {
   "cell_type": "code",
   "execution_count": 157,
   "id": "50e07584",
   "metadata": {},
   "outputs": [
    {
     "name": "stdout",
     "output_type": "stream",
     "text": [
      "    players gender  practice  comp_match_wins comp_cen_class   status\n",
      "0         1      F      2092               79           lvl2      ama\n",
      "1         2      M       805               14           lvl2      ama\n",
      "2         3      F      2637               21           lvl2  semipro\n",
      "3         4      M      2126               55           lvl2      ama\n",
      "4         5      M      2473                7           lvl2      ama\n",
      "5         6      M       745               58           lvl2      ama\n",
      "6         7      F      3299               40           lvl2      pro\n",
      "7         8      M      2120               56           lvl2      ama\n",
      "8         9      M      2374               20           lvl2      ama\n",
      "9        10      M      1031               66           lvl2      ama\n",
      "10       11      M      3284                9           lvl2  semipro\n",
      "11       12      M      2204                4           lvl2      ama\n",
      "12       13      M       777                3           lvl2      ama\n",
      "13       14      F      2491               18           lvl2      ama\n",
      "14       15      M      3356               18           lvl2  semipro\n",
      "15       16      F      2881               29           lvl2  semipro\n",
      "16       17      M      1808               69           lvl2      ama\n",
      "17       18      M      1511               79           lvl2      ama\n",
      "18       19      M      2838               40           lvl2      pro\n",
      "19       20      M      3228               60           lvl2      pro\n",
      "20       21      M      3050               24           lvl2  semipro\n",
      "21       22      M      1877               17           lvl2      ama\n",
      "22       23      F      3005               36           lvl2      pro\n",
      "23       24      M      1635               27           lvl2      ama\n",
      "24       25      M       489               76           lvl2      ama\n",
      "25       26      M      1097               72           lvl2      ama\n",
      "26       27      M      2855                8           lvl2  semipro\n",
      "27       28      M       334               47           lvl2      ama\n",
      "28       29      M      1692               48           lvl2      ama\n",
      "29       30      M       315               16           lvl2      ama\n",
      "30       31      M       121               69           lvl2      ama\n",
      "31       32      F       316               51           lvl2      ama\n",
      "32       33      M      1570               68           lvl2      ama\n",
      "33       34      M       239               61           lvl2      ama\n",
      "34       35      M       725                9           lvl2      ama\n",
      "35       36      M      2301               56           lvl2      ama\n",
      "36       37      M      2200               57           lvl2      ama\n",
      "37       38      M      2222               80           lvl2      ama\n",
      "38       39      M      1088               12           lvl2      ama\n",
      "39       40      M      2850               70           lvl2      pro\n",
      "40       41      F      1619               19           lvl2      ama\n",
      "41       42      M      2913               80           lvl2      pro\n",
      "42       43      M      1088               63           lvl2      ama\n",
      "43       44      F       474               11           lvl2      ama\n",
      "44       45      M      2310               35           lvl2      ama\n",
      "45       46      M      3057               10           lvl2  semipro\n",
      "46       47      M       876               76           lvl2      ama\n",
      "47       48      M      2767               32           lvl2  semipro\n",
      "48       49      M       932               37           lvl2      ama\n",
      "49       50      M      1877               11           lvl2      ama\n",
      "50       51      M       158               28           lvl2      ama\n",
      "51       52      M       366               26           lvl2      ama\n",
      "52       53      M      2917               30           lvl2  semipro\n",
      "53       54      M      1708               27           lvl2      ama\n",
      "54       55      M      1072               72           lvl2      ama\n",
      "55       56      M      1303               40           lvl2      ama\n",
      "56       57      M       692               40           lvl2      ama\n",
      "57       58      M      1179               71           lvl2      ama\n",
      "58       59      M      2413               41           lvl2      ama\n",
      "59       60      M       235               57           lvl2      ama\n",
      "60       61      M       806               18           lvl2      ama\n",
      "61       62      M      2885               37           lvl2      pro\n",
      "62       63      M      3268               12           lvl2  semipro\n",
      "63       64      M       147               40           lvl2      ama\n",
      "64       65      M      3257                7           lvl2  semipro\n",
      "65       66      M       573               16           lvl2      ama\n",
      "66       67      M      2246               36           lvl2      ama\n",
      "67       68      M       920                2           lvl2      ama\n",
      "68       69      M      2577               52           lvl2      pro\n",
      "69       70      M      1257               37           lvl2      ama\n",
      "70       71      M       559               81           lvl2      ama\n",
      "71       72      M      2485               37           lvl2      ama\n",
      "72       73      M       466               64           lvl2      ama\n",
      "73       74      M      2510               27           lvl2  semipro\n",
      "74       75      M       377               10           lvl2      ama\n",
      "75       76      M      3176               58           lvl2      pro\n",
      "76       77      M       175               26           lvl2      ama\n",
      "77       78      M      1689               35           lvl2      ama\n",
      "78       79      M      2054               40           lvl2      ama\n",
      "79       80      M      2452               35           lvl2      ama\n",
      "80       81      M      1270               53           lvl2      ama\n",
      "81       82      M       770               32           lvl2      ama\n",
      "82       83      M      2478               60           lvl2      ama\n",
      "83       84      M      1451               25           lvl2      ama\n",
      "84       85      M       870               33           lvl2      ama\n",
      "85       86      M      2954               73           lvl2      pro\n",
      "86       87      M       629               35           lvl2      ama\n",
      "87       88      M      1775               80           lvl2      ama\n",
      "88       89      M      2930                7           lvl2  semipro\n",
      "89       90      M        97               77           lvl2      ama\n",
      "90       91      M      2120               32           lvl2      ama\n",
      "91       92      M       813               76           lvl2      ama\n",
      "92       93      M      1389               81           lvl2      ama\n",
      "93       94      M      2916               30           lvl2  semipro\n",
      "94       95      M      2588               82           lvl2      pro\n",
      "95       96      M       788               43           lvl2      ama\n",
      "96       97      M      2218               44           lvl2      ama\n",
      "97       98      M      3419               18           lvl2  semipro\n",
      "98       99      M      2495               55           lvl2      ama\n",
      "99      100      M      1984               34           lvl2      ama\n"
     ]
    }
   ],
   "source": [
    "pd.set_option('display.max_rows', 100)\n",
    "\n",
    "print (df)"
   ]
  },
  {
   "cell_type": "code",
   "execution_count": 158,
   "id": "ba6701c7",
   "metadata": {},
   "outputs": [
    {
     "data": {
      "text/html": [
       "<div>\n",
       "<style scoped>\n",
       "    .dataframe tbody tr th:only-of-type {\n",
       "        vertical-align: middle;\n",
       "    }\n",
       "\n",
       "    .dataframe tbody tr th {\n",
       "        vertical-align: top;\n",
       "    }\n",
       "\n",
       "    .dataframe thead th {\n",
       "        text-align: right;\n",
       "    }\n",
       "</style>\n",
       "<table border=\"1\" class=\"dataframe\">\n",
       "  <thead>\n",
       "    <tr style=\"text-align: right;\">\n",
       "      <th></th>\n",
       "      <th>players</th>\n",
       "      <th>gender</th>\n",
       "      <th>practice</th>\n",
       "      <th>comp_match_wins</th>\n",
       "      <th>comp_cen_class</th>\n",
       "      <th>status</th>\n",
       "    </tr>\n",
       "  </thead>\n",
       "  <tbody>\n",
       "    <tr>\n",
       "      <th>0</th>\n",
       "      <td>1</td>\n",
       "      <td>F</td>\n",
       "      <td>2092</td>\n",
       "      <td>79</td>\n",
       "      <td>lvl2</td>\n",
       "      <td>ama</td>\n",
       "    </tr>\n",
       "    <tr>\n",
       "      <th>1</th>\n",
       "      <td>2</td>\n",
       "      <td>M</td>\n",
       "      <td>805</td>\n",
       "      <td>14</td>\n",
       "      <td>lvl2</td>\n",
       "      <td>ama</td>\n",
       "    </tr>\n",
       "    <tr>\n",
       "      <th>2</th>\n",
       "      <td>3</td>\n",
       "      <td>F</td>\n",
       "      <td>2637</td>\n",
       "      <td>21</td>\n",
       "      <td>lvl2</td>\n",
       "      <td>semipro</td>\n",
       "    </tr>\n",
       "    <tr>\n",
       "      <th>3</th>\n",
       "      <td>4</td>\n",
       "      <td>M</td>\n",
       "      <td>2126</td>\n",
       "      <td>55</td>\n",
       "      <td>lvl2</td>\n",
       "      <td>ama</td>\n",
       "    </tr>\n",
       "    <tr>\n",
       "      <th>4</th>\n",
       "      <td>5</td>\n",
       "      <td>M</td>\n",
       "      <td>2473</td>\n",
       "      <td>7</td>\n",
       "      <td>lvl2</td>\n",
       "      <td>ama</td>\n",
       "    </tr>\n",
       "  </tbody>\n",
       "</table>\n",
       "</div>"
      ],
      "text/plain": [
       "   players gender  practice  comp_match_wins comp_cen_class   status\n",
       "0        1      F      2092               79           lvl2      ama\n",
       "1        2      M       805               14           lvl2      ama\n",
       "2        3      F      2637               21           lvl2  semipro\n",
       "3        4      M      2126               55           lvl2      ama\n",
       "4        5      M      2473                7           lvl2      ama"
      ]
     },
     "execution_count": 158,
     "metadata": {},
     "output_type": "execute_result"
    }
   ],
   "source": [
    "# print head to check data\n",
    "df.head()"
   ]
  },
  {
   "cell_type": "code",
   "execution_count": 159,
   "id": "2ddf016f",
   "metadata": {},
   "outputs": [
    {
     "data": {
      "text/plain": [
       "players             int64\n",
       "gender             object\n",
       "practice            int32\n",
       "comp_match_wins     int32\n",
       "comp_cen_class     object\n",
       "status             object\n",
       "dtype: object"
      ]
     },
     "execution_count": 159,
     "metadata": {},
     "output_type": "execute_result"
    }
   ],
   "source": [
    "# check the datatypes\n",
    "df.dtypes"
   ]
  },
  {
   "cell_type": "code",
   "execution_count": 160,
   "id": "867a892e",
   "metadata": {},
   "outputs": [
    {
     "data": {
      "text/plain": [
       "array(['ama', 'semipro', 'pro'], dtype=object)"
      ]
     },
     "execution_count": 160,
     "metadata": {},
     "output_type": "execute_result"
    }
   ],
   "source": [
    "# show that the columns are contributing to the status types\n",
    "pd.unique(df['status'])"
   ]
  },
  {
   "cell_type": "code",
   "execution_count": 161,
   "id": "c76503ca",
   "metadata": {},
   "outputs": [
    {
     "data": {
      "text/plain": [
       "count    100.000000\n",
       "mean      40.950000\n",
       "std       23.471184\n",
       "min        2.000000\n",
       "25%       20.750000\n",
       "50%       37.000000\n",
       "75%       60.000000\n",
       "max       82.000000\n",
       "Name: comp_match_wins, dtype: float64"
      ]
     },
     "execution_count": 161,
     "metadata": {},
     "output_type": "execute_result"
    }
   ],
   "source": [
    "# getting the statistics of matches won which has probably the strongest\n",
    "# influence on player status\n",
    "df['comp_match_wins'].describe()\n"
   ]
  },
  {
   "cell_type": "code",
   "execution_count": 85,
   "id": "4fffc992",
   "metadata": {},
   "outputs": [],
   "source": []
  },
  {
   "cell_type": "code",
   "execution_count": null,
   "id": "25d0c3f6",
   "metadata": {},
   "outputs": [],
   "source": []
  }
 ],
 "metadata": {
  "kernelspec": {
   "display_name": "Python 3 (ipykernel)",
   "language": "python",
   "name": "python3"
  },
  "language_info": {
   "codemirror_mode": {
    "name": "ipython",
    "version": 3
   },
   "file_extension": ".py",
   "mimetype": "text/x-python",
   "name": "python",
   "nbconvert_exporter": "python",
   "pygments_lexer": "ipython3",
   "version": "3.9.7"
  }
 },
 "nbformat": 4,
 "nbformat_minor": 5
}
